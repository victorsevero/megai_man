{
 "cells": [
  {
   "cell_type": "code",
   "execution_count": 1,
   "metadata": {},
   "outputs": [],
   "source": [
    "import sys\n",
    "\n",
    "sys.path.append(\"megai_man\")\n",
    "\n",
    "from hyperparam_optimization import tune\n",
    "import optuna"
   ]
  },
  {
   "cell_type": "code",
   "execution_count": null,
   "metadata": {},
   "outputs": [],
   "source": [
    "def sample_params(trial: optuna.Trial, n_envs: int, n_steps: int):\n",
    "    learning_rate = trial.suggest_float(\"learning_rate\", 1e-6, 1e-2, log=True)\n",
    "    clip_range = trial.suggest_float(\"clip_range\", 0.1, 0.3, step=0.1)\n",
    "    vf_coef = trial.suggest_float(\"vf_coef\", 0.0, 1.0)\n",
    "    ent_coef = trial.suggest_float(\"ent_coef\", 1e-8, 1e-1, log=True)\n",
    "    gae_lambda = trial.suggest_float(\"gae_lambda\", 0.8, 1.0, log=True)\n",
    "    n_epochs = trial.suggest_int(\"n_epochs\", 1, 10)\n",
    "    gamma = trial.suggest_categorical(\"gamma\", [0.99, 0.995, 0.999])\n",
    "    max_grad_norm = trial.suggest_float(\"max_grad_norm\", 0.3, 1)\n",
    "    features_dim_exp = trial.suggest_int(\"features_dim_power\", 8, 10)\n",
    "    features_dim = 2**features_dim_exp\n",
    "\n",
    "    return {\n",
    "        \"n_steps\": 1024,\n",
    "        \"batch_size\": 8192,\n",
    "        \"learning_rate\": learning_rate,\n",
    "        \"clip_range\": clip_range,\n",
    "        \"vf_coef\": vf_coef,\n",
    "        \"ent_coef\": ent_coef,\n",
    "        \"gae_lambda\": gae_lambda,\n",
    "        \"n_epochs\": n_epochs,\n",
    "        \"gamma\": gamma,\n",
    "        \"max_grad_norm\": max_grad_norm,\n",
    "        \"policy_kwargs\": {\n",
    "            \"features_extractor_kwargs\": {\n",
    "                \"features_dim\": features_dim,\n",
    "            },\n",
    "        },\n",
    "    }\n",
    "\n",
    "\n",
    "tune(\n",
    "    sample_fn=sample_params,\n",
    "    name=\"cutman_random_searcher_nsteps1024_1minibatch\",\n",
    "    n_trials=100,\n",
    "    timesteps_per_trial=1_000_000,\n",
    ")"
   ]
  },
  {
   "cell_type": "code",
   "execution_count": null,
   "metadata": {},
   "outputs": [],
   "source": [
    "def sample_params(trial: optuna.Trial, n_envs: int, n_steps: int):\n",
    "    learning_rate = trial.suggest_float(\"learning_rate\", 1e-6, 1e-2, log=True)\n",
    "    clip_range = trial.suggest_float(\"clip_range\", 0.1, 0.3, step=0.1)\n",
    "    vf_coef = trial.suggest_float(\"vf_coef\", 0.0, 1.0)\n",
    "    ent_coef = trial.suggest_float(\"ent_coef\", 1e-8, 1e-1, log=True)\n",
    "    gae_lambda = trial.suggest_float(\"gae_lambda\", 0.8, 1.0, log=True)\n",
    "    n_epochs = trial.suggest_int(\"n_epochs\", 1, 10)\n",
    "    gamma = trial.suggest_categorical(\"gamma\", [0.99, 0.995, 0.999])\n",
    "    max_grad_norm = trial.suggest_float(\"max_grad_norm\", 0.3, 1)\n",
    "    features_dim_exp = trial.suggest_int(\"features_dim_power\", 8, 10)\n",
    "    features_dim = 2**features_dim_exp\n",
    "\n",
    "    return {\n",
    "        \"n_steps\": 128,\n",
    "        \"batch_size\": 256,\n",
    "        \"learning_rate\": learning_rate,\n",
    "        \"clip_range\": clip_range,\n",
    "        \"vf_coef\": vf_coef,\n",
    "        \"ent_coef\": ent_coef,\n",
    "        \"gae_lambda\": gae_lambda,\n",
    "        \"n_epochs\": n_epochs,\n",
    "        \"gamma\": gamma,\n",
    "        \"max_grad_norm\": max_grad_norm,\n",
    "        \"policy_kwargs\": {\n",
    "            \"features_extractor_kwargs\": {\n",
    "                \"features_dim\": features_dim,\n",
    "            },\n",
    "        },\n",
    "    }\n",
    "\n",
    "\n",
    "tune(\n",
    "    sample_fn=sample_params,\n",
    "    name=\"cutman_random_searcher_nsteps256_4minibatch\",\n",
    "    n_trials=100,\n",
    "    timesteps_per_trial=1_000_000,\n",
    ")"
   ]
  }
 ],
 "metadata": {
  "kernelspec": {
   "display_name": "megai-man-wnxxQsUz-py3.10",
   "language": "python",
   "name": "python3"
  },
  "language_info": {
   "codemirror_mode": {
    "name": "ipython",
    "version": 3
   },
   "file_extension": ".py",
   "mimetype": "text/x-python",
   "name": "python",
   "nbconvert_exporter": "python",
   "pygments_lexer": "ipython3",
   "version": "3.10.13"
  }
 },
 "nbformat": 4,
 "nbformat_minor": 2
}
