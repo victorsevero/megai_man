{
 "cells": [
  {
   "cell_type": "markdown",
   "metadata": {},
   "source": [
    "Let's try to modify the colors of the emulated game so we can simplify some textures/palettes. We will start by trying to change the color palette of the emulator."
   ]
  },
  {
   "cell_type": "code",
   "execution_count": 5,
   "metadata": {},
   "outputs": [],
   "source": [
    "palette_list = []\n",
    "palette_list += [0, 0, 0]\n",
    "palette_list += 63 * [255, 255, 255]\n",
    "palette = bytearray(palette_list)\n",
    "\n",
    "with open(\"black_and_multiple_whites.pal\", \"wb\") as fp:\n",
    "    fp.write(palette)"
   ]
  },
  {
   "attachments": {
    "image.png": {
     "image/png": "[encoded data removed]"
    }
   },
   "cell_type": "markdown",
   "metadata": {},
   "source": [
    "![image.png](attachment:image.png)\n",
    "\n",
    "That obviously didn't work, because we need to change how sprites are mapped to the palette, not the palette itself."
   ]
  }
 ],
 "metadata": {
  "kernelspec": {
   "display_name": "megai-man-wnxxQsUz-py3.10",
   "language": "python",
   "name": "python3"
  },
  "language_info": {
   "codemirror_mode": {
    "name": "ipython",
    "version": 3
   },
   "file_extension": ".py",
   "mimetype": "text/x-python",
   "name": "python",
   "nbconvert_exporter": "python",
   "pygments_lexer": "ipython3",
   "version": "3.10.13"
  }
 },
 "nbformat": 4,
 "nbformat_minor": 2
}
